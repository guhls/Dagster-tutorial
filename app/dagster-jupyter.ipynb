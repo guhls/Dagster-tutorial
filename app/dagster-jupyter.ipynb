{
 "cells": [
  {
   "cell_type": "code",
   "execution_count": 2,
   "metadata": {},
   "outputs": [],
   "source": [
    "import pandas as pd"
   ]
  },
  {
   "cell_type": "code",
   "execution_count": 3,
   "metadata": {},
   "outputs": [],
   "source": [
    "import requests, csv\n",
    "from dagster import job, op\n",
    "from requests.models import Response"
   ]
  },
  {
   "cell_type": "code",
   "execution_count": null,
   "metadata": {},
   "outputs": [],
   "source": [
    "cereal = pd.read_csv(\"assets/cereal.csv\", usecols=[\"name\"], squeeze=True)\n",
    "cereal.tail()"
   ]
  },
  {
   "cell_type": "code",
   "execution_count": 4,
   "metadata": {},
   "outputs": [],
   "source": [
    "response = requests.get(\"https://docs.dagster.io/assets/cereal.csv\")"
   ]
  },
  {
   "cell_type": "code",
   "execution_count": 5,
   "metadata": {},
   "outputs": [],
   "source": [
    "@op\n",
    "def hello_cereal(context):\n",
    "    lines = response.text.split(\"\\n\")\n",
    "    cereals = [row for row in csv.DictReader(lines)]\n",
    "    context.log.info(f\"Found {len(cereals)} cereals\")\n",
    "\n",
    "    return cereals"
   ]
  },
  {
   "cell_type": "code",
   "execution_count": null,
   "metadata": {},
   "outputs": [],
   "source": [
    "@op\n",
    "def show_cereals():\n",
    "     cereals_h5 = pd.read_csv(\"assets/cereal.csv\")\n",
    "     \n",
    "\n",
    "     return cereals_h5.head()"
   ]
  },
  {
   "cell_type": "code",
   "execution_count": null,
   "metadata": {},
   "outputs": [],
   "source": [
    "@job\n",
    "def hello_cereal_job():\n",
    "    hello_cereal()\n",
    "    show_cereals()"
   ]
  },
  {
   "cell_type": "code",
   "execution_count": null,
   "metadata": {},
   "outputs": [],
   "source": [
    "if __name__ == \"__main__\":\n",
    "    result = hello_cereal_job.execute_in_process()"
   ]
  },
  {
   "cell_type": "code",
   "execution_count": null,
   "metadata": {},
   "outputs": [],
   "source": []
  }
 ],
 "metadata": {
  "interpreter": {
   "hash": "608cf9f32001b720242cad97d40bdebed178a3c8c63333d8fb281fa87f046d3c"
  },
  "kernelspec": {
   "display_name": "Python 3.8.10 64-bit",
   "language": "python",
   "name": "python3"
  },
  "language_info": {
   "codemirror_mode": {
    "name": "ipython",
    "version": 3
   },
   "file_extension": ".py",
   "mimetype": "text/x-python",
   "name": "python",
   "nbconvert_exporter": "python",
   "pygments_lexer": "ipython3",
   "version": "3.8.10"
  },
  "orig_nbformat": 4
 },
 "nbformat": 4,
 "nbformat_minor": 2
}
